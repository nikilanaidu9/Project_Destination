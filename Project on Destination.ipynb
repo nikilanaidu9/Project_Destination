{
 "cells": [
  {
   "cell_type": "code",
   "execution_count": 10,
   "metadata": {
    "scrolled": true
   },
   "outputs": [
    {
     "name": "stdout",
     "output_type": "stream",
     "text": [
      "Type your name: Nikki\n",
      "Welcome Nikki to this Sevenhill tecking!\n",
      "You are in first hill way, you found two ways to go .Choose one left/right as l or r? r\n",
      "Currently, you are on top view way. Here you will have two paths choose pantherspot as p and topviewpont as t t\n",
      "WOWWW! You are reached to top view point.You feel freezy here. If you want tent give yes or noyes\n",
      "Congratulations once again!!. You got complimentary dinner with campfire\n",
      "Thank you for trying Nikki\n"
     ]
    }
   ],
   "source": [
    "name = input(\"Type your name: \")\n",
    "print(\"Welcome\", name, \"to this Sevenhill tecking!\")\n",
    "\n",
    "answer = input(\n",
    "    \"You are in first hill way, you found two ways to go .Choose one left/right as l or r? \").lower()\n",
    "\n",
    "if answer == \"l\":\n",
    "    answer = input(\n",
    "        \"Now you are on the way to view point1? You want to climb as c or ride a horse  as h to reach the view point1?: \")\n",
    "\n",
    "    if answer == \"c\":\n",
    "        print(\"sorry, you lost you are unable to reach the destination\")\n",
    "    elif answer == \"h\":\n",
    "        print(\"HURRAY!!!...Congratulations You're reached to View Point1.Enjoy the view.\")\n",
    "    else:\n",
    "        print(\"Sorry,please haven't enter valid details .\")\n",
    "\n",
    "elif answer == \"r\":\n",
    "    answer = input(\"Currently, you are on top view way. Here you will have two paths choose pantherspot as p and topviewpont as t \")\n",
    "\n",
    "    if answer == \"p\":\n",
    "        print(\"Warning!!!:It's very dangerous. Leave this place as soon as possible.\")        \n",
    "        \n",
    "    elif answer == \"t\":\n",
    "        answer = input(\"WOWWW! You are reached to top view point.You feel freezy here. If you want tent give yes or no\")\n",
    "\n",
    "        if answer == \"yes\":\n",
    "            print(\"Congratulations once again!!. You got complimentary dinner with campfire\")\n",
    "        elif answer == \"no\":\n",
    "            print(\"You will suffer if you don't take the tent.Please go and take the tent.\")\n",
    "        else:\n",
    "            print('Not a valid option. You lose.')\n",
    "    else:\n",
    "        print('Not a valid option. You lose.')\n",
    "\n",
    "else:\n",
    "    print('Not a valid option. You lose.')\n",
    "\n",
    "print(\"Thank you for trying\", name)"
   ]
  },
  {
   "cell_type": "code",
   "execution_count": null,
   "metadata": {},
   "outputs": [],
   "source": []
  },
  {
   "cell_type": "code",
   "execution_count": null,
   "metadata": {},
   "outputs": [],
   "source": []
  }
 ],
 "metadata": {
  "kernelspec": {
   "display_name": "Python 3",
   "language": "python",
   "name": "python3"
  },
  "language_info": {
   "codemirror_mode": {
    "name": "ipython",
    "version": 3
   },
   "file_extension": ".py",
   "mimetype": "text/x-python",
   "name": "python",
   "nbconvert_exporter": "python",
   "pygments_lexer": "ipython3",
   "version": "3.7.4"
  }
 },
 "nbformat": 4,
 "nbformat_minor": 2
}
